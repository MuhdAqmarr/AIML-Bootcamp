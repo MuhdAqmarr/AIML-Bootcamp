{
 "cells": [
  {
   "cell_type": "markdown",
   "id": "369d54a8-fb87-4cd2-8ede-6d050cd49650",
   "metadata": {},
   "source": [
    "# HI BRO"
   ]
  },
  {
   "cell_type": "code",
   "execution_count": 1,
   "id": "b9964216-8fd1-4c61-ba17-acdae27dda23",
   "metadata": {},
   "outputs": [
    {
     "name": "stdout",
     "output_type": "stream",
     "text": [
      "hoii\n"
     ]
    }
   ],
   "source": [
    "print('hoii')"
   ]
  },
  {
   "cell_type": "code",
   "execution_count": null,
   "id": "3cb0cd07-0701-4093-9c2a-cfe321d720a7",
   "metadata": {},
   "outputs": [],
   "source": []
  },
  {
   "cell_type": "markdown",
   "id": "20df6fdf-a70e-41b9-b6ed-ab07bf43c2ce",
   "metadata": {},
   "source": [
    "# the end"
   ]
  },
  {
   "cell_type": "code",
   "execution_count": null,
   "id": "0f48d0e8-cf9b-4777-8514-30069a54b684",
   "metadata": {},
   "outputs": [],
   "source": []
  }
 ],
 "metadata": {
  "kernelspec": {
   "display_name": "Python [conda env:base] *",
   "language": "python",
   "name": "conda-base-py"
  },
  "language_info": {
   "codemirror_mode": {
    "name": "ipython",
    "version": 3
   },
   "file_extension": ".py",
   "mimetype": "text/x-python",
   "name": "python",
   "nbconvert_exporter": "python",
   "pygments_lexer": "ipython3",
   "version": "3.13.5"
  }
 },
 "nbformat": 4,
 "nbformat_minor": 5
}
