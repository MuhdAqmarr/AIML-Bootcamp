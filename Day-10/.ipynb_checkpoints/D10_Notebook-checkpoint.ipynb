{
 "cells": [
  {
   "cell_type": "markdown",
   "id": "83732488-ee3b-49cb-9f44-f02fa4a4e01f",
   "metadata": {},
   "source": [
    "# First NoteBook\n",
    "## Steps to Print a Single Line\n",
    "*We will create Code Cell*\n",
    "*We will write print command*\n",
    "*We will run the cell*"
   ]
  },
  {
   "cell_type": "code",
   "execution_count": 3,
   "id": "2caefcad-02ac-456f-b103-bc59b8a25f5e",
   "metadata": {},
   "outputs": [
    {
     "name": "stdout",
     "output_type": "stream",
     "text": [
      "Welcome to python Note Book\n"
     ]
    }
   ],
   "source": [
    "print('Welcome to python Note Book')"
   ]
  },
  {
   "cell_type": "markdown",
   "id": "44b95a2d-13b2-4f47-9915-fc359f456821",
   "metadata": {},
   "source": [
    "# For loop example"
   ]
  },
  {
   "cell_type": "code",
   "execution_count": 6,
   "id": "b07a042a-c8a2-4fa8-a3df-0d1c910c635e",
   "metadata": {},
   "outputs": [
    {
     "name": "stdout",
     "output_type": "stream",
     "text": [
      "1\t2\t3\t4\t5\t6\t7\t8\t9\t10\t11\t12\t13\t14\t15\t16\t17\t18\t19\t20\t21\t22\t23\t24\t25\t26\t27\t28\t29\t30\t31\t32\t33\t34\t35\t36\t37\t38\t39\t40\t41\t42\t43\t44\t45\t46\t47\t48\t49\t50\t51\t52\t53\t54\t55\t56\t57\t58\t59\t60\t61\t62\t63\t64\t65\t66\t67\t68\t69\t70\t71\t72\t73\t74\t75\t76\t77\t78\t79\t80\t81\t82\t83\t84\t85\t86\t87\t88\t89\t90\t91\t92\t93\t94\t95\t96\t97\t98\t99\t100\t"
     ]
    }
   ],
   "source": [
    "for num in range(1,101):\n",
    "    print(num, end=\"\\t\")"
   ]
  },
  {
   "cell_type": "code",
   "execution_count": 7,
   "id": "44d69047-07a7-4540-9f5c-7d850c545254",
   "metadata": {},
   "outputs": [],
   "source": [
    "players=('Ms. Dhoni','Moin Ali','Rashid Khan','Dawid Warner','Joe Root')"
   ]
  },
  {
   "cell_type": "code",
   "execution_count": 9,
   "id": "e9a77097-d2af-4049-960e-3fd321771ce5",
   "metadata": {},
   "outputs": [
    {
     "name": "stdout",
     "output_type": "stream",
     "text": [
      "Ms. Dhoni\n",
      "Moin Ali\n",
      "Rashid Khan\n",
      "Dawid Warner\n",
      "Joe Root\n"
     ]
    }
   ],
   "source": [
    "for n in players:\n",
    "    print(n)"
   ]
  },
  {
   "cell_type": "code",
   "execution_count": 11,
   "id": "41f26007-455b-440d-92e5-2947290cf44a",
   "metadata": {},
   "outputs": [
    {
     "name": "stdout",
     "output_type": "stream",
     "text": [
      "Welcome\n"
     ]
    }
   ],
   "source": [
    "print('Welcome')"
   ]
  },
  {
   "cell_type": "code",
   "execution_count": 12,
   "id": "9a5dcebe-7bc1-4cb8-a6c7-acd63034c3d1",
   "metadata": {},
   "outputs": [
    {
     "name": "stdout",
     "output_type": "stream",
     "text": [
      "Welcome again\n",
      "One more thing\n"
     ]
    }
   ],
   "source": [
    "print('Welcome again')\n",
    "print('One more thing')"
   ]
  },
  {
   "cell_type": "code",
   "execution_count": null,
   "id": "9821604a-d106-4bfe-b21c-6d1d8ff10a83",
   "metadata": {},
   "outputs": [],
   "source": []
  }
 ],
 "metadata": {
  "kernelspec": {
   "display_name": "Python [conda env:base] *",
   "language": "python",
   "name": "conda-base-py"
  },
  "language_info": {
   "codemirror_mode": {
    "name": "ipython",
    "version": 3
   },
   "file_extension": ".py",
   "mimetype": "text/x-python",
   "name": "python",
   "nbconvert_exporter": "python",
   "pygments_lexer": "ipython3",
   "version": "3.13.5"
  }
 },
 "nbformat": 4,
 "nbformat_minor": 5
}
